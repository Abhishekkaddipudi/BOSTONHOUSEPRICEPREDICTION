{
 "cells": [
  {
   "cell_type": "markdown",
   "id": "6ac84a02",
   "metadata": {},
   "source": [
    "<div class=\"alert alert-box alert-info\">\n",
    "    <h2 style=\"margin:0px\"> Linear Regression on Boston housing using gradient descent from scratch </h2> \n",
    "    \n",
    " </div>"
   ]
  },
  {
   "cell_type": "markdown",
   "id": "8366e6d3",
   "metadata": {},
   "source": [
    "- We perform linear regression from scratch and compare with linear model from sklearn library\n",
    "- We are using the following libraries"
   ]
  },
  {
   "cell_type": "code",
   "execution_count": 29,
   "id": "35209dbb",
   "metadata": {
    "id": "35209dbb"
   },
   "outputs": [],
   "source": [
    "import pandas as pd\n",
    "import numpy as np\n",
    "from sklearn.datasets import load_boston\n",
    "import matplotlib.pyplot as plt\n",
    "import seaborn as sns\n",
    "import warnings\n",
    "warnings.filterwarnings(\"ignore\")#ignoring the warnings for presentation"
   ]
  },
  {
   "cell_type": "markdown",
   "id": "cbbeb74e",
   "metadata": {},
   "source": [
    "<div class=\"alert alert-box alert-info\">\n",
    "    <h3 style=\"margin:0px\"> Loading dataset from sklearn.datasets</h3> \n",
    "    \n",
    " </div>"
   ]
  },
  {
   "cell_type": "markdown",
   "id": "06986999",
   "metadata": {},
   "source": [
    "https://scikit-learn.org/0.15/modules/generated/sklearn.datasets.load_boston.html"
   ]
  },
  {
   "cell_type": "code",
   "execution_count": 30,
   "id": "787275f5",
   "metadata": {},
   "outputs": [],
   "source": [
    "data=load_boston()"
   ]
  },
  {
   "cell_type": "code",
   "execution_count": 31,
   "id": "7bd62093",
   "metadata": {},
   "outputs": [],
   "source": [
    "df=pd.DataFrame(data[\"data\"],columns=data[\"feature_names\"])"
   ]
  },
  {
   "cell_type": "code",
   "execution_count": 32,
   "id": "957e4146",
   "metadata": {
    "id": "957e4146"
   },
   "outputs": [],
   "source": [
    "df[\"Price\"]=data[\"target\"]"
   ]
  },
  {
   "cell_type": "code",
   "execution_count": 33,
   "id": "5dd38445",
   "metadata": {},
   "outputs": [
    {
     "data": {
      "text/plain": [
       "(506, 14)"
      ]
     },
     "execution_count": 33,
     "metadata": {},
     "output_type": "execute_result"
    }
   ],
   "source": [
    "df.shape"
   ]
  },
  {
   "cell_type": "markdown",
   "id": "36ed6272",
   "metadata": {},
   "source": [
    "<div class=\"alert alert-box alert-success\">\n",
    "    <h3 style=\"margin:0px\"> We have 506 values and 13 independent features \"Price\" is dependent feature </h3> \n",
    "    \n",
    " </div>"
   ]
  },
  {
   "cell_type": "markdown",
   "id": "8336747d",
   "metadata": {},
   "source": [
    "<div>\n",
    "    <h2 style=\"margin:75px\"></h2>\n",
    "</div>"
   ]
  },
  {
   "cell_type": "code",
   "execution_count": 34,
   "id": "8eb7dd69",
   "metadata": {
    "colab": {
     "base_uri": "https://localhost:8080/",
     "height": 206
    },
    "id": "8eb7dd69",
    "outputId": "63b5d016-2351-460a-cd7b-2fd35fd98445"
   },
   "outputs": [
    {
     "data": {
      "text/html": [
       "<div>\n",
       "<style scoped>\n",
       "    .dataframe tbody tr th:only-of-type {\n",
       "        vertical-align: middle;\n",
       "    }\n",
       "\n",
       "    .dataframe tbody tr th {\n",
       "        vertical-align: top;\n",
       "    }\n",
       "\n",
       "    .dataframe thead th {\n",
       "        text-align: right;\n",
       "    }\n",
       "</style>\n",
       "<table border=\"1\" class=\"dataframe\">\n",
       "  <thead>\n",
       "    <tr style=\"text-align: right;\">\n",
       "      <th></th>\n",
       "      <th>CRIM</th>\n",
       "      <th>ZN</th>\n",
       "      <th>INDUS</th>\n",
       "      <th>CHAS</th>\n",
       "      <th>NOX</th>\n",
       "      <th>RM</th>\n",
       "      <th>AGE</th>\n",
       "      <th>DIS</th>\n",
       "      <th>RAD</th>\n",
       "      <th>TAX</th>\n",
       "      <th>PTRATIO</th>\n",
       "      <th>B</th>\n",
       "      <th>LSTAT</th>\n",
       "      <th>Price</th>\n",
       "    </tr>\n",
       "  </thead>\n",
       "  <tbody>\n",
       "    <tr>\n",
       "      <th>0</th>\n",
       "      <td>0.00632</td>\n",
       "      <td>18.0</td>\n",
       "      <td>2.31</td>\n",
       "      <td>0.0</td>\n",
       "      <td>0.538</td>\n",
       "      <td>6.575</td>\n",
       "      <td>65.2</td>\n",
       "      <td>4.0900</td>\n",
       "      <td>1.0</td>\n",
       "      <td>296.0</td>\n",
       "      <td>15.3</td>\n",
       "      <td>396.90</td>\n",
       "      <td>4.98</td>\n",
       "      <td>24.0</td>\n",
       "    </tr>\n",
       "    <tr>\n",
       "      <th>1</th>\n",
       "      <td>0.02731</td>\n",
       "      <td>0.0</td>\n",
       "      <td>7.07</td>\n",
       "      <td>0.0</td>\n",
       "      <td>0.469</td>\n",
       "      <td>6.421</td>\n",
       "      <td>78.9</td>\n",
       "      <td>4.9671</td>\n",
       "      <td>2.0</td>\n",
       "      <td>242.0</td>\n",
       "      <td>17.8</td>\n",
       "      <td>396.90</td>\n",
       "      <td>9.14</td>\n",
       "      <td>21.6</td>\n",
       "    </tr>\n",
       "    <tr>\n",
       "      <th>2</th>\n",
       "      <td>0.02729</td>\n",
       "      <td>0.0</td>\n",
       "      <td>7.07</td>\n",
       "      <td>0.0</td>\n",
       "      <td>0.469</td>\n",
       "      <td>7.185</td>\n",
       "      <td>61.1</td>\n",
       "      <td>4.9671</td>\n",
       "      <td>2.0</td>\n",
       "      <td>242.0</td>\n",
       "      <td>17.8</td>\n",
       "      <td>392.83</td>\n",
       "      <td>4.03</td>\n",
       "      <td>34.7</td>\n",
       "    </tr>\n",
       "    <tr>\n",
       "      <th>3</th>\n",
       "      <td>0.03237</td>\n",
       "      <td>0.0</td>\n",
       "      <td>2.18</td>\n",
       "      <td>0.0</td>\n",
       "      <td>0.458</td>\n",
       "      <td>6.998</td>\n",
       "      <td>45.8</td>\n",
       "      <td>6.0622</td>\n",
       "      <td>3.0</td>\n",
       "      <td>222.0</td>\n",
       "      <td>18.7</td>\n",
       "      <td>394.63</td>\n",
       "      <td>2.94</td>\n",
       "      <td>33.4</td>\n",
       "    </tr>\n",
       "    <tr>\n",
       "      <th>4</th>\n",
       "      <td>0.06905</td>\n",
       "      <td>0.0</td>\n",
       "      <td>2.18</td>\n",
       "      <td>0.0</td>\n",
       "      <td>0.458</td>\n",
       "      <td>7.147</td>\n",
       "      <td>54.2</td>\n",
       "      <td>6.0622</td>\n",
       "      <td>3.0</td>\n",
       "      <td>222.0</td>\n",
       "      <td>18.7</td>\n",
       "      <td>396.90</td>\n",
       "      <td>5.33</td>\n",
       "      <td>36.2</td>\n",
       "    </tr>\n",
       "  </tbody>\n",
       "</table>\n",
       "</div>"
      ],
      "text/plain": [
       "      CRIM    ZN  INDUS  CHAS    NOX     RM   AGE     DIS  RAD    TAX  \\\n",
       "0  0.00632  18.0   2.31   0.0  0.538  6.575  65.2  4.0900  1.0  296.0   \n",
       "1  0.02731   0.0   7.07   0.0  0.469  6.421  78.9  4.9671  2.0  242.0   \n",
       "2  0.02729   0.0   7.07   0.0  0.469  7.185  61.1  4.9671  2.0  242.0   \n",
       "3  0.03237   0.0   2.18   0.0  0.458  6.998  45.8  6.0622  3.0  222.0   \n",
       "4  0.06905   0.0   2.18   0.0  0.458  7.147  54.2  6.0622  3.0  222.0   \n",
       "\n",
       "   PTRATIO       B  LSTAT  Price  \n",
       "0     15.3  396.90   4.98   24.0  \n",
       "1     17.8  396.90   9.14   21.6  \n",
       "2     17.8  392.83   4.03   34.7  \n",
       "3     18.7  394.63   2.94   33.4  \n",
       "4     18.7  396.90   5.33   36.2  "
      ]
     },
     "execution_count": 34,
     "metadata": {},
     "output_type": "execute_result"
    }
   ],
   "source": [
    "df.head()"
   ]
  },
  {
   "cell_type": "code",
   "execution_count": 35,
   "id": "9cd31bd7",
   "metadata": {
    "colab": {
     "base_uri": "https://localhost:8080/"
    },
    "id": "9cd31bd7",
    "outputId": "82226352-6b00-42ec-895e-58bf10b3cbc0"
   },
   "outputs": [
    {
     "data": {
      "text/plain": [
       "CRIM       0\n",
       "ZN         0\n",
       "INDUS      0\n",
       "CHAS       0\n",
       "NOX        0\n",
       "RM         0\n",
       "AGE        0\n",
       "DIS        0\n",
       "RAD        0\n",
       "TAX        0\n",
       "PTRATIO    0\n",
       "B          0\n",
       "LSTAT      0\n",
       "Price      0\n",
       "dtype: int64"
      ]
     },
     "execution_count": 35,
     "metadata": {},
     "output_type": "execute_result"
    }
   ],
   "source": [
    "df.isnull().sum()"
   ]
  },
  {
   "cell_type": "markdown",
   "id": "ef38b0f5",
   "metadata": {},
   "source": [
    "<div class=\"alert alert-box alert-success\">\n",
    "    <h3 style=\"margin:0px\"> There are no null values in the dataframe </h3> \n",
    "    \n",
    " </div>"
   ]
  },
  {
   "cell_type": "markdown",
   "id": "7c7ebe66",
   "metadata": {},
   "source": [
    "<div>\n",
    "    <h2 style=\"margin:120px\"></h2>\n",
    "</div>"
   ]
  },
  {
   "cell_type": "markdown",
   "id": "85995b2c",
   "metadata": {},
   "source": [
    "<div class=\"alert alert-box alert-info\">\n",
    "    <h2 style=\"margin:0px\"> Finding the correlation of features W.R.T Price feature </h2> \n",
    "    \n",
    " </div>"
   ]
  },
  {
   "cell_type": "code",
   "execution_count": 37,
   "id": "Xnf_aBLtaGOt",
   "metadata": {
    "colab": {
     "base_uri": "https://localhost:8080/"
    },
    "id": "Xnf_aBLtaGOt",
    "outputId": "08a296ea-bbe6-4b31-ab62-66d0c2fbfc46"
   },
   "outputs": [
    {
     "data": {
      "text/plain": [
       "CRIM      -0.388305\n",
       "ZN         0.360445\n",
       "INDUS     -0.483725\n",
       "CHAS       0.175260\n",
       "NOX       -0.427321\n",
       "RM         0.695360\n",
       "AGE       -0.376955\n",
       "DIS        0.249929\n",
       "RAD       -0.381626\n",
       "TAX       -0.468536\n",
       "PTRATIO   -0.507787\n",
       "B          0.333461\n",
       "LSTAT     -0.737663\n",
       "Price      1.000000\n",
       "Name: Price, dtype: float64"
      ]
     },
     "execution_count": 37,
     "metadata": {},
     "output_type": "execute_result"
    }
   ],
   "source": [
    "df.corr()[\"Price\"]"
   ]
  },
  {
   "cell_type": "markdown",
   "id": "e6200a7c",
   "metadata": {},
   "source": [
    "<div class=\"alert alert-box alert-info\">\n",
    "    <h2 style=\"margin:0px\"> Spliting data for training and testing </h2> \n",
    "    \n",
    " </div>"
   ]
  },
  {
   "cell_type": "code",
   "execution_count": 41,
   "id": "2a7bc21d",
   "metadata": {
    "id": "2a7bc21d"
   },
   "outputs": [],
   "source": [
    "from sklearn.model_selection import train_test_split\n",
    "X_train,X_test,y_train,y_test=train_test_split(df.iloc[:,:-1],df.iloc[:,-1],test_size=0.3,train_size=0.7,random_state=9)"
   ]
  },
  {
   "cell_type": "code",
   "execution_count": 42,
   "id": "5c5482fd",
   "metadata": {
    "colab": {
     "base_uri": "https://localhost:8080/",
     "height": 206
    },
    "id": "5c5482fd",
    "outputId": "7567f43f-6138-437f-99aa-e8d0cf6d9202",
    "scrolled": true
   },
   "outputs": [
    {
     "data": {
      "text/html": [
       "<div>\n",
       "<style scoped>\n",
       "    .dataframe tbody tr th:only-of-type {\n",
       "        vertical-align: middle;\n",
       "    }\n",
       "\n",
       "    .dataframe tbody tr th {\n",
       "        vertical-align: top;\n",
       "    }\n",
       "\n",
       "    .dataframe thead th {\n",
       "        text-align: right;\n",
       "    }\n",
       "</style>\n",
       "<table border=\"1\" class=\"dataframe\">\n",
       "  <thead>\n",
       "    <tr style=\"text-align: right;\">\n",
       "      <th></th>\n",
       "      <th>CRIM</th>\n",
       "      <th>ZN</th>\n",
       "      <th>INDUS</th>\n",
       "      <th>CHAS</th>\n",
       "      <th>NOX</th>\n",
       "      <th>RM</th>\n",
       "      <th>AGE</th>\n",
       "      <th>DIS</th>\n",
       "      <th>RAD</th>\n",
       "      <th>TAX</th>\n",
       "      <th>PTRATIO</th>\n",
       "      <th>B</th>\n",
       "      <th>LSTAT</th>\n",
       "    </tr>\n",
       "  </thead>\n",
       "  <tbody>\n",
       "    <tr>\n",
       "      <th>217</th>\n",
       "      <td>0.07013</td>\n",
       "      <td>0.0</td>\n",
       "      <td>13.89</td>\n",
       "      <td>0.0</td>\n",
       "      <td>0.550</td>\n",
       "      <td>6.642</td>\n",
       "      <td>85.1</td>\n",
       "      <td>3.4211</td>\n",
       "      <td>5.0</td>\n",
       "      <td>276.0</td>\n",
       "      <td>16.4</td>\n",
       "      <td>392.78</td>\n",
       "      <td>9.69</td>\n",
       "    </tr>\n",
       "    <tr>\n",
       "      <th>25</th>\n",
       "      <td>0.84054</td>\n",
       "      <td>0.0</td>\n",
       "      <td>8.14</td>\n",
       "      <td>0.0</td>\n",
       "      <td>0.538</td>\n",
       "      <td>5.599</td>\n",
       "      <td>85.7</td>\n",
       "      <td>4.4546</td>\n",
       "      <td>4.0</td>\n",
       "      <td>307.0</td>\n",
       "      <td>21.0</td>\n",
       "      <td>303.42</td>\n",
       "      <td>16.51</td>\n",
       "    </tr>\n",
       "    <tr>\n",
       "      <th>235</th>\n",
       "      <td>0.33045</td>\n",
       "      <td>0.0</td>\n",
       "      <td>6.20</td>\n",
       "      <td>0.0</td>\n",
       "      <td>0.507</td>\n",
       "      <td>6.086</td>\n",
       "      <td>61.5</td>\n",
       "      <td>3.6519</td>\n",
       "      <td>8.0</td>\n",
       "      <td>307.0</td>\n",
       "      <td>17.4</td>\n",
       "      <td>376.75</td>\n",
       "      <td>10.88</td>\n",
       "    </tr>\n",
       "    <tr>\n",
       "      <th>62</th>\n",
       "      <td>0.11027</td>\n",
       "      <td>25.0</td>\n",
       "      <td>5.13</td>\n",
       "      <td>0.0</td>\n",
       "      <td>0.453</td>\n",
       "      <td>6.456</td>\n",
       "      <td>67.8</td>\n",
       "      <td>7.2255</td>\n",
       "      <td>8.0</td>\n",
       "      <td>284.0</td>\n",
       "      <td>19.7</td>\n",
       "      <td>396.90</td>\n",
       "      <td>6.73</td>\n",
       "    </tr>\n",
       "    <tr>\n",
       "      <th>6</th>\n",
       "      <td>0.08829</td>\n",
       "      <td>12.5</td>\n",
       "      <td>7.87</td>\n",
       "      <td>0.0</td>\n",
       "      <td>0.524</td>\n",
       "      <td>6.012</td>\n",
       "      <td>66.6</td>\n",
       "      <td>5.5605</td>\n",
       "      <td>5.0</td>\n",
       "      <td>311.0</td>\n",
       "      <td>15.2</td>\n",
       "      <td>395.60</td>\n",
       "      <td>12.43</td>\n",
       "    </tr>\n",
       "  </tbody>\n",
       "</table>\n",
       "</div>"
      ],
      "text/plain": [
       "        CRIM    ZN  INDUS  CHAS    NOX     RM   AGE     DIS  RAD    TAX  \\\n",
       "217  0.07013   0.0  13.89   0.0  0.550  6.642  85.1  3.4211  5.0  276.0   \n",
       "25   0.84054   0.0   8.14   0.0  0.538  5.599  85.7  4.4546  4.0  307.0   \n",
       "235  0.33045   0.0   6.20   0.0  0.507  6.086  61.5  3.6519  8.0  307.0   \n",
       "62   0.11027  25.0   5.13   0.0  0.453  6.456  67.8  7.2255  8.0  284.0   \n",
       "6    0.08829  12.5   7.87   0.0  0.524  6.012  66.6  5.5605  5.0  311.0   \n",
       "\n",
       "     PTRATIO       B  LSTAT  \n",
       "217     16.4  392.78   9.69  \n",
       "25      21.0  303.42  16.51  \n",
       "235     17.4  376.75  10.88  \n",
       "62      19.7  396.90   6.73  \n",
       "6       15.2  395.60  12.43  "
      ]
     },
     "execution_count": 42,
     "metadata": {},
     "output_type": "execute_result"
    }
   ],
   "source": [
    "X_train.head()"
   ]
  },
  {
   "cell_type": "markdown",
   "id": "7b478b94",
   "metadata": {},
   "source": [
    "<div>\n",
    "    <h2 style=\"margin:30px\"></h2>\n",
    "</div>"
   ]
  },
  {
   "cell_type": "code",
   "execution_count": 43,
   "id": "29806732",
   "metadata": {
    "colab": {
     "base_uri": "https://localhost:8080/"
    },
    "id": "29806732",
    "outputId": "ac89d56d-e4de-41c1-c873-04d416f9757d",
    "scrolled": true
   },
   "outputs": [
    {
     "data": {
      "text/plain": [
       "217    28.7\n",
       "25     13.9\n",
       "235    24.0\n",
       "62     22.2\n",
       "6      22.9\n",
       "Name: Price, dtype: float64"
      ]
     },
     "execution_count": 43,
     "metadata": {},
     "output_type": "execute_result"
    }
   ],
   "source": [
    "y_train.head()"
   ]
  },
  {
   "cell_type": "markdown",
   "id": "2a34bd15",
   "metadata": {},
   "source": [
    "<div class=\"alert alert-box alert-info\">\n",
    "    \n",
    " <h2 style=\"margin:0px\">Converting values from range of (-1,1) using StandardScaler so our model could reach minima faster</h2> \n",
    "    \n",
    " </div>"
   ]
  },
  {
   "cell_type": "code",
   "execution_count": 48,
   "id": "e5d7a27b",
   "metadata": {
    "id": "e5d7a27b"
   },
   "outputs": [],
   "source": [
    "from sklearn.preprocessing import StandardScaler\n",
    "sc=StandardScaler()\n",
    "X_train=sc.fit_transform(X_train)\n",
    "X_test=sc.transform(X_test)"
   ]
  },
  {
   "cell_type": "markdown",
   "id": "98a0a8f2",
   "metadata": {},
   "source": [
    "<div class=\"alert alert-box alert-info\">\n",
    "    <h2 style=\"margin:0px\"> Cost Function </h2> \n",
    "    \n",
    " </div>"
   ]
  },
  {
   "attachments": {},
   "cell_type": "markdown",
   "id": "d59de0be",
   "metadata": {},
   "source": [
    "<img src=\"costfun.png\" alt=\"\" width=\"500\" height=\"500\"> \n"
   ]
  },
  {
   "cell_type": "code",
   "execution_count": 49,
   "id": "0fb6d5f1",
   "metadata": {
    "id": "0fb6d5f1"
   },
   "outputs": [],
   "source": [
    "def cost_Fun(x,y,b,w):\n",
    "    m=len(y)\n",
    "    return np.sum(((x.dot(w)+b)-y)**2)/(2*m)"
   ]
  },
  {
   "cell_type": "markdown",
   "id": "8513a67a",
   "metadata": {},
   "source": [
    "<div>\n",
    "    <h2 style=\"margin:30px\"></h2>\n",
    "</div>"
   ]
  },
  {
   "cell_type": "markdown",
   "id": "141f5a19",
   "metadata": {},
   "source": [
    " <div class=\"alert alert-box alert-info\">\n",
    "    <h2 style=\"margin:0px\"> Gradient Descent Function </h2> \n",
    "    \n",
    " </div>"
   ]
  },
  {
   "attachments": {},
   "cell_type": "markdown",
   "id": "8e7c10ff",
   "metadata": {},
   "source": [
    "<img src=\"gradient.png\" alt=\"\" width=\"500\" height=\"500\"> "
   ]
  },
  {
   "cell_type": "markdown",
   "id": "7484537d",
   "metadata": {},
   "source": [
    "<h2 style=\"font-family:courier;color:blue;\">h&#920(x(i)) is &#920 1 + &#920 2 * x the equation of straight line</h2>\n",
    "<h2 style=\"font-family:courier;color:blue;margin:0px\">&#920 2 is weight</h2>\n",
    "<h2 style=\"font-family:courier;color:blue;margin:0px\">&#920 1 is bias</h2>"
   ]
  },
  {
   "cell_type": "code",
   "execution_count": 53,
   "id": "524bb6e0",
   "metadata": {
    "id": "524bb6e0"
   },
   "outputs": [],
   "source": [
    "def GradientDescent(x, y, w, b, learning_rate, epochs):\n",
    "    cost_list = [0] * epochs\n",
    "   \n",
    "    for epoch in range(epochs):\n",
    "        z = x.dot(w) + b\n",
    "        loss = z-y\n",
    "        #The partial derivative ∂f∂x(0i,0j) is the slope of the tangent line to this curve at the point where x=0i\n",
    "        ##.T gives the transpose of the matrix\n",
    "        weight_gradient = x.T.dot(loss) / len(y)\n",
    "        bias_gradient = np.sum(loss) / len(y)\n",
    "        \n",
    "        w = w - learning_rate*weight_gradient\n",
    "        b = b - learning_rate*bias_gradient\n",
    "  \n",
    "        cost = cost_Fun(x, y, b, w)\n",
    "        cost_list[epoch] = cost\n",
    "        \n",
    "        if (epoch%(epochs/10)==0):\n",
    "            print(f\"Cost at {epoch} is:\",cost)\n",
    "        \n",
    "    return w, b, cost_list"
   ]
  },
  {
   "cell_type": "markdown",
   "id": "e6789e79",
   "metadata": {
    "id": "ylpytT_9Tm5E"
   },
   "source": [
    " <div style=\"font-size: 18px;font-weight: bold;\" class=\"alert alert-box alert-info\">\n",
    "    <ul><h3 style=\"margin:0px\">Gradient Descent Function</h3>\n",
    "       <br/>\n",
    "        <li>Iniatilizing weights and bias to 0</li>\n",
    "        <li> Learning rate is 0.01</li>\n",
    "        <li> Eposch or iterations to 2000</li>\n",
    "       \n",
    "    \n",
    " </ul>\n",
    "    \n",
    "    \n",
    "    \n",
    " </div>"
   ]
  },
  {
   "cell_type": "code",
   "execution_count": 100,
   "id": "b1052443",
   "metadata": {
    "colab": {
     "base_uri": "https://localhost:8080/"
    },
    "id": "b1052443",
    "outputId": "77674011-9a44-42a5-d464-69049f2bc8e1"
   },
   "outputs": [
    {
     "name": "stdout",
     "output_type": "stream",
     "text": [
      "Cost at 0 is: 279.2800770403807\n",
      "Cost at 200 is: 16.807547944718138\n",
      "Cost at 400 is: 12.092160202093243\n",
      "Cost at 600 is: 11.848362350201391\n",
      "Cost at 800 is: 11.756087357934243\n",
      "Cost at 1000 is: 11.701919592797472\n",
      "Cost at 1200 is: 11.6676422290539\n",
      "Cost at 1400 is: 11.644846045597305\n",
      "Cost at 1600 is: 11.629072028591196\n",
      "Cost at 1800 is: 11.617817392353636\n"
     ]
    }
   ],
   "source": [
    "weight = np.zeros(X_train.shape[1])\n",
    "bias=0\n",
    "w,b,cost_list=GradientDescent(X_train,y_train,weight,bias,0.01,2000)"
   ]
  },
  {
   "cell_type": "code",
   "execution_count": 65,
   "id": "b06285b6",
   "metadata": {
    "colab": {
     "base_uri": "https://localhost:8080/",
     "height": 104
    },
    "id": "b06285b6",
    "outputId": "ce58ce0b-ee62-4f52-9b4d-0e6c08783617"
   },
   "outputs": [
    {
     "data": {
      "text/plain": [
       "array([-0.99430011,  0.91144506,  0.13550378,  0.58422094, -1.71586428,\n",
       "        2.72507616, -0.01107414, -2.83149147,  1.92665587, -1.34979725,\n",
       "       -1.91660828,  0.72980929, -3.78539905])"
      ]
     },
     "metadata": {},
     "output_type": "display_data"
    },
    {
     "data": {
      "text/plain": [
       "22.14237284008794"
      ]
     },
     "metadata": {},
     "output_type": "display_data"
    },
    {
     "data": {
      "text/plain": [
       "[11.609708657616723, 11.609673360720128, 11.609638116384843]"
      ]
     },
     "metadata": {},
     "output_type": "display_data"
    }
   ],
   "source": [
    "display(w,b,cost_list[-3:])"
   ]
  },
  {
   "cell_type": "code",
   "execution_count": 56,
   "id": "b9d075ff",
   "metadata": {
    "colab": {
     "base_uri": "https://localhost:8080/",
     "height": 282
    },
    "id": "b9d075ff",
    "outputId": "12ccf8c1-c946-4d72-f741-872a8215e912"
   },
   "outputs": [
    {
     "data": {
      "text/plain": [
       "[<matplotlib.lines.Line2D at 0x1bb740432e0>]"
      ]
     },
     "execution_count": 56,
     "metadata": {},
     "output_type": "execute_result"
    },
    {
     "data": {
      "image/png": "[encoded data removed]",
      "text/plain": [
       "<Figure size 432x288 with 1 Axes>"
      ]
     },
     "metadata": {
      "needs_background": "light"
     },
     "output_type": "display_data"
    }
   ],
   "source": [
    "plt.plot(cost_list)"
   ]
  },
  {
   "cell_type": "markdown",
   "id": "ad433777",
   "metadata": {},
   "source": [
    "<div>\n",
    "    <h2 style=\"margin:75px\"></h2>\n",
    "</div>"
   ]
  },
  {
   "cell_type": "markdown",
   "id": "fb3229cc",
   "metadata": {},
   "source": [
    " <div class=\"alert alert-box alert-info\">\n",
    "    <h2 style=\"margin:0px\"> Predicting for test data </h2> \n",
    "    \n",
    " </div>"
   ]
  },
  {
   "cell_type": "code",
   "execution_count": 59,
   "id": "4df18e21",
   "metadata": {
    "id": "4df18e21"
   },
   "outputs": [],
   "source": [
    "def predict(X, w, b):\n",
    "    return X.dot(w) + b"
   ]
  },
  {
   "cell_type": "code",
   "execution_count": 60,
   "id": "742b5bf4",
   "metadata": {
    "id": "742b5bf4"
   },
   "outputs": [],
   "source": [
    "y_pred=predict(X_test,w,b)"
   ]
  },
  {
   "cell_type": "markdown",
   "id": "f9c170ca",
   "metadata": {},
   "source": [
    " <div class=\"alert alert-box alert-info\">\n",
    "    <h2 style=\"margin:0px\">Calculating r2score</h2> \n",
    "    \n",
    " </div>"
   ]
  },
  {
   "cell_type": "code",
   "execution_count": 61,
   "id": "25a6470e",
   "metadata": {
    "id": "25a6470e"
   },
   "outputs": [],
   "source": [
    "def r2score(y_pred, y):\n",
    "    rss = np.sum((y_pred - y) ** 2)\n",
    "    tss = np.sum((y-y.mean()) ** 2)\n",
    "    \n",
    "    r2 = 1 - (rss / tss)\n",
    "    return r2"
   ]
  },
  {
   "cell_type": "code",
   "execution_count": 62,
   "id": "58aef827",
   "metadata": {
    "colab": {
     "base_uri": "https://localhost:8080/"
    },
    "id": "58aef827",
    "outputId": "36193828-6f88-4872-8f80-97509eafca8c"
   },
   "outputs": [
    {
     "data": {
      "text/plain": [
       "0.7809281191771755"
      ]
     },
     "execution_count": 62,
     "metadata": {},
     "output_type": "execute_result"
    }
   ],
   "source": [
    "r2score(y_pred,y_test)"
   ]
  },
  {
   "cell_type": "markdown",
   "id": "22805a76",
   "metadata": {},
   "source": [
    "<h2 style=\"font-family:courier;color:blue;\">Our model can predict with an r2 score of 0.78</h2>"
   ]
  },
  {
   "cell_type": "markdown",
   "id": "1388a61b",
   "metadata": {},
   "source": [
    "<div>\n",
    "    <h2 style=\"margin:230px\"></h2>\n",
    "</div>"
   ]
  },
  {
   "cell_type": "markdown",
   "id": "99fe475f",
   "metadata": {},
   "source": [
    " <div class=\"alert alert-box alert-info\">\n",
    "    <h2 style=\"margin:0px\"> Linear regression using sklearn linearRegression </h2> \n",
    "    \n",
    " </div>"
   ]
  },
  {
   "cell_type": "code",
   "execution_count": 69,
   "id": "7JekcLrFcC9q",
   "metadata": {
    "id": "7JekcLrFcC9q"
   },
   "outputs": [],
   "source": [
    "from sklearn.model_selection import train_test_split\n",
    "X_train,X_test,y_train,y_test=train_test_split(df.iloc[:,:-1],df.iloc[:,-1],test_size=0.3,train_size=0.7,random_state=9)"
   ]
  },
  {
   "cell_type": "code",
   "execution_count": 70,
   "id": "y7TSGqj5dUPQ",
   "metadata": {
    "id": "y7TSGqj5dUPQ"
   },
   "outputs": [],
   "source": [
    "from sklearn.preprocessing import StandardScaler\n",
    "sc=StandardScaler()\n",
    "X_train=sc.fit_transform(X_train)\n",
    "X_test=sc.transform(X_test)"
   ]
  },
  {
   "cell_type": "code",
   "execution_count": 91,
   "id": "e4ec2c20",
   "metadata": {
    "id": "e4ec2c20"
   },
   "outputs": [],
   "source": [
    "from sklearn.linear_model import LinearRegression"
   ]
  },
  {
   "cell_type": "code",
   "execution_count": 92,
   "id": "uU2-Kj8xbuSh",
   "metadata": {
    "colab": {
     "base_uri": "https://localhost:8080/"
    },
    "id": "uU2-Kj8xbuSh",
    "outputId": "9397d760-cefe-4e44-b99a-a3870c02c18e"
   },
   "outputs": [
    {
     "name": "stdout",
     "output_type": "stream",
     "text": [
      "-26.098177240175033\n"
     ]
    }
   ],
   "source": [
    "linear_regressor=LinearRegression()\n",
    "from sklearn.model_selection import cross_val_score\n",
    "mse=cross_val_score(linear_regressor,X_train,y_train,scoring=\"neg_mean_squared_error\",cv=5)\n",
    "print(mse.mean())\n",
    "linear_regressor.fit(X_train,y_train)"
   ]
  },
  {
   "cell_type": "code",
   "execution_count": 95,
   "id": "1d06aa0b",
   "metadata": {},
   "outputs": [],
   "source": [
    "linear_predicted=linear_regressor.predict(X_test)"
   ]
  },
  {
   "cell_type": "code",
   "execution_count": 96,
   "id": "IzGpsbAVcgoN",
   "metadata": {
    "colab": {
     "base_uri": "https://localhost:8080/"
    },
    "id": "IzGpsbAVcgoN",
    "outputId": "5f1901e6-7d2e-4c4d-c91d-c3887884ba24"
   },
   "outputs": [
    {
     "name": "stdout",
     "output_type": "stream",
     "text": [
      "0.782612607427101\n"
     ]
    }
   ],
   "source": [
    "from sklearn.metrics import r2_score\n",
    "print(r2_score(y_test,linear_predicted))"
   ]
  },
  {
   "cell_type": "markdown",
   "id": "a230ae58",
   "metadata": {},
   "source": [
    " <div class=\"alert alert-box alert-success\">\n",
    "    <h2 style=\"margin:0px\"> Similar r2 score 0.78 and 0.78</h2> \n",
    "    \n",
    " </div>"
   ]
  }
 ],
 "metadata": {
  "colab": {
   "provenance": []
  },
  "kernelspec": {
   "display_name": "Python 3 (ipykernel)",
   "language": "python",
   "name": "python3"
  },
  "language_info": {
   "codemirror_mode": {
    "name": "ipython",
    "version": 3
   },
   "file_extension": ".py",
   "mimetype": "text/x-python",
   "name": "python",
   "nbconvert_exporter": "python",
   "pygments_lexer": "ipython3",
   "version": "3.9.12"
  }
 },
 "nbformat": 4,
 "nbformat_minor": 5
}
